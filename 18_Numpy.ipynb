{
 "cells": [
  {
   "cell_type": "markdown",
   "metadata": {},
   "source": [
    "# Numpy\n",
    "- Introduction to Numpy \n",
    "- Array Creation Printing Arrays, Basic Operations- Indexing, Slicing and Iterating\n",
    "- Shape Manipulation - Changing shape,\n",
    "- stacking arrays\n",
    "- Transpose of an array\n",
    "- Creating zeros,ones and identity matrix\n",
    "- Arithmetic operation, Matrix multiplication\n",
    "- Filtering values from an array w/ and w/o where function\n",
    "- Applying statistic function over array (to whole elements or row wise or column wise)\n",
    "- Exercise"
   ]
  },
  {
   "cell_type": "code",
   "execution_count": 2,
   "metadata": {},
   "outputs": [],
   "source": [
    "import numpy as np"
   ]
  },
  {
   "cell_type": "code",
   "execution_count": 3,
   "metadata": {},
   "outputs": [
    {
     "name": "stdout",
     "output_type": "stream",
     "text": [
      "1.16.2\n",
      "624\n"
     ]
    }
   ],
   "source": [
    "print(np.__version__)\n",
    "print(len(dir(np)))"
   ]
  },
  {
   "cell_type": "markdown",
   "metadata": {},
   "source": [
    "##### Array Creation Printing Arrays, Basic Operations- Indexing, Slicing and Iterating"
   ]
  },
  {
   "cell_type": "code",
   "execution_count": 6,
   "metadata": {},
   "outputs": [],
   "source": [
    "a = np.array(())\n",
    "b = np.array([])"
   ]
  },
  {
   "cell_type": "code",
   "execution_count": 7,
   "metadata": {},
   "outputs": [
    {
     "data": {
      "text/plain": [
       "array([], dtype=float64)"
      ]
     },
     "execution_count": 7,
     "metadata": {},
     "output_type": "execute_result"
    }
   ],
   "source": [
    "a"
   ]
  },
  {
   "cell_type": "code",
   "execution_count": 8,
   "metadata": {},
   "outputs": [
    {
     "data": {
      "text/plain": [
       "array([], dtype=float64)"
      ]
     },
     "execution_count": 8,
     "metadata": {},
     "output_type": "execute_result"
    }
   ],
   "source": [
    "b"
   ]
  },
  {
   "cell_type": "code",
   "execution_count": 9,
   "metadata": {},
   "outputs": [
    {
     "name": "stdout",
     "output_type": "stream",
     "text": [
      "[1 2 3 4]\n"
     ]
    }
   ],
   "source": [
    "a = np.array([1,2,3,4])\n",
    "print(a)"
   ]
  },
  {
   "cell_type": "code",
   "execution_count": 10,
   "metadata": {},
   "outputs": [
    {
     "name": "stdout",
     "output_type": "stream",
     "text": [
      "[[1 2 3]\n",
      " [4 5 6]\n",
      " [7 8 9]]\n"
     ]
    }
   ],
   "source": [
    "a = np.array([[1,2,3],[4,5,6],[7,8,9]])\n",
    "print(a)"
   ]
  },
  {
   "cell_type": "code",
   "execution_count": 12,
   "metadata": {},
   "outputs": [
    {
     "name": "stdout",
     "output_type": "stream",
     "text": [
      "[[1.  2.  3. ]\n",
      " [4.  5.  6. ]\n",
      " [7.4 8.  9. ]]\n"
     ]
    }
   ],
   "source": [
    "a = np.array([[1,2,3],[4,5,6],[7.4,8,9]])\n",
    "print(a)"
   ]
  },
  {
   "cell_type": "code",
   "execution_count": 13,
   "metadata": {},
   "outputs": [
    {
     "name": "stdout",
     "output_type": "stream",
     "text": [
      "[['1' '2' '3']\n",
      " ['4' '5' '6']\n",
      " ['7.4' '8' '9']]\n"
     ]
    }
   ],
   "source": [
    "a = np.array([[1,2,3],[4,5,6],[7.4,8,\"9\"]])\n",
    "print(a)"
   ]
  },
  {
   "cell_type": "code",
   "execution_count": 11,
   "metadata": {},
   "outputs": [
    {
     "name": "stdout",
     "output_type": "stream",
     "text": [
      "[list([1, 2, 3]) list([4, 5, 6]) list([7, 8, 9, 10])]\n"
     ]
    }
   ],
   "source": [
    "a = np.array([[1,2,3],[4,5,6],[7,8,9,10]])\n",
    "print(a)"
   ]
  },
  {
   "cell_type": "markdown",
   "metadata": {},
   "source": [
    "## checking various attributes of an array"
   ]
  },
  {
   "cell_type": "code",
   "execution_count": null,
   "metadata": {},
   "outputs": [],
   "source": []
  },
  {
   "cell_type": "code",
   "execution_count": 18,
   "metadata": {},
   "outputs": [
    {
     "name": "stdout",
     "output_type": "stream",
     "text": [
      "[[1 2 3]\n",
      " [4 5 6]\n",
      " [7 8 9]]\n",
      "(3, 3)\n",
      "8\n",
      "2\n",
      "9\n",
      "int64\n"
     ]
    }
   ],
   "source": [
    "a = np.array([[1,2,3],[4,5,6],[7,8,9]])\n",
    "print(a)\n",
    "print(a.shape) # row,col\n",
    "print(a.itemsize) # how many bytes allocated for each element\n",
    "print(a.ndim) # number of dimensions\n",
    "print(a.size) # how many elements in the array\n",
    "print(a.dtype) # data type"
   ]
  },
  {
   "cell_type": "code",
   "execution_count": 19,
   "metadata": {},
   "outputs": [
    {
     "name": "stdout",
     "output_type": "stream",
     "text": [
      "[[1.  2.  3. ]\n",
      " [4.  5.  6. ]\n",
      " [7.  8.  9.4]]\n",
      "(3, 3)\n",
      "8\n",
      "2\n",
      "9\n",
      "float64\n"
     ]
    }
   ],
   "source": [
    "a = np.array([[1,2,3],[4,5,6],[7,8,9.4]])\n",
    "print(a)\n",
    "print(a.shape) # row,col\n",
    "print(a.itemsize) # how many bytes allocated for each element\n",
    "print(a.ndim) # number of dimensions\n",
    "print(a.size) # how many elements in the array\n",
    "print(a.dtype) # data type"
   ]
  },
  {
   "cell_type": "markdown",
   "metadata": {},
   "source": [
    "# Indexing and slicing on array"
   ]
  },
  {
   "cell_type": "code",
   "execution_count": 18,
   "metadata": {},
   "outputs": [
    {
     "name": "stdout",
     "output_type": "stream",
     "text": [
      "[[1 2 3]\n",
      " [4 5 6]\n",
      " [7 8 9]]\n",
      "(3, 3)\n",
      "8\n",
      "2\n",
      "9\n",
      "int64\n"
     ]
    }
   ],
   "source": [
    "a = np.array([[1,2,3],[4,5,6],[7,8,9]])\n",
    "print(a)\n",
    "print(a.shape) # row,col\n",
    "print(a.itemsize) # how many bytes allocated for each element\n",
    "print(a.ndim) # number of dimensions\n",
    "print(a.size) # how many elements in the array\n",
    "print(a.dtype) # data type"
   ]
  },
  {
   "cell_type": "code",
   "execution_count": 68,
   "metadata": {},
   "outputs": [
    {
     "name": "stdout",
     "output_type": "stream",
     "text": [
      "[[1 2 3]\n",
      " [4 5 6]\n",
      " [7 8 9]]\n"
     ]
    }
   ],
   "source": [
    "a = np.array([[1,2,3],[4,5,6],[7,8,9]])\n",
    "print(a)"
   ]
  },
  {
   "cell_type": "code",
   "execution_count": 71,
   "metadata": {},
   "outputs": [
    {
     "data": {
      "text/plain": [
       "array([[2],\n",
       "       [8]])"
      ]
     },
     "execution_count": 71,
     "metadata": {},
     "output_type": "execute_result"
    }
   ],
   "source": [
    "a[::2,1::2]"
   ]
  },
  {
   "cell_type": "code",
   "execution_count": 24,
   "metadata": {},
   "outputs": [
    {
     "data": {
      "text/plain": [
       "1"
      ]
     },
     "execution_count": 24,
     "metadata": {},
     "output_type": "execute_result"
    }
   ],
   "source": [
    "a[0][0]"
   ]
  },
  {
   "cell_type": "code",
   "execution_count": null,
   "metadata": {},
   "outputs": [],
   "source": [
    "# <array_name>[<row_index>,<col_index>]"
   ]
  },
  {
   "cell_type": "code",
   "execution_count": 30,
   "metadata": {},
   "outputs": [
    {
     "name": "stdout",
     "output_type": "stream",
     "text": [
      "[[9 8 7]\n",
      " [6 5 4]\n",
      " [3 2 1]]\n"
     ]
    }
   ],
   "source": [
    "# print(a[0,0])\n",
    "# print(a[:,:])\n",
    "# print(a[::,::])\n",
    "# print(a[::,1])\n",
    "# print(a[:2,:])\n",
    "print(a[::-1,::-1])"
   ]
  },
  {
   "cell_type": "markdown",
   "metadata": {},
   "source": [
    "# Random number generator"
   ]
  },
  {
   "cell_type": "code",
   "execution_count": 31,
   "metadata": {},
   "outputs": [
    {
     "data": {
      "text/plain": [
       "array([6, 1, 1, 4, 5, 3, 4, 4, 2, 5, 5, 1, 4, 3, 2, 5, 3, 2, 6, 5, 3, 2,\n",
       "       2, 1, 6, 3, 2, 2, 3, 4, 1, 4, 6, 3, 2, 5, 2, 4, 5, 3, 5, 3, 3, 5,\n",
       "       3, 3, 6, 3, 3, 5])"
      ]
     },
     "execution_count": 31,
     "metadata": {},
     "output_type": "execute_result"
    }
   ],
   "source": [
    "a = np.random.randint(1,7,50)\n",
    "a"
   ]
  },
  {
   "cell_type": "code",
   "execution_count": 32,
   "metadata": {},
   "outputs": [
    {
     "data": {
      "text/plain": [
       "array([1, 1, 1, 1, 0, 0, 1, 1, 0, 0, 1, 1, 0, 0, 0, 1, 0, 0, 0, 1, 0, 1,\n",
       "       0, 0, 0, 1, 0, 0, 0, 1, 1, 1, 0, 0, 1, 1, 1, 1, 1, 1, 1, 0, 1, 0,\n",
       "       0, 0, 1, 1, 1, 0])"
      ]
     },
     "execution_count": 32,
     "metadata": {},
     "output_type": "execute_result"
    }
   ],
   "source": [
    "a = np.random.randint(0,2,50)\n",
    "a"
   ]
  },
  {
   "cell_type": "code",
   "execution_count": 35,
   "metadata": {},
   "outputs": [
    {
     "data": {
      "text/plain": [
       "array([[0.62582322, 0.67435932, 0.0219714 ],\n",
       "       [0.89649412, 0.21223465, 0.81593264]])"
      ]
     },
     "execution_count": 35,
     "metadata": {},
     "output_type": "execute_result"
    }
   ],
   "source": [
    "a = np.random.rand(2,3)\n",
    "a"
   ]
  },
  {
   "cell_type": "code",
   "execution_count": 36,
   "metadata": {},
   "outputs": [
    {
     "data": {
      "text/plain": [
       "array([[ 0.19953079, -0.18226725, -1.69325648],\n",
       "       [-0.88694632, -1.12266234,  0.65862379]])"
      ]
     },
     "execution_count": 36,
     "metadata": {},
     "output_type": "execute_result"
    }
   ],
   "source": [
    "a = np.random.randn(2,3)\n",
    "a"
   ]
  },
  {
   "cell_type": "markdown",
   "metadata": {},
   "source": [
    "##### Shape Manipulation - Changing shape,"
   ]
  },
  {
   "cell_type": "code",
   "execution_count": 52,
   "metadata": {},
   "outputs": [
    {
     "data": {
      "text/plain": [
       "array([19, 23,  4, 21, 19, 11, 27, 24, 23, 15, 11,  3, 20, 29,  2,  9, 28,\n",
       "        8,  6, 17])"
      ]
     },
     "execution_count": 52,
     "metadata": {},
     "output_type": "execute_result"
    }
   ],
   "source": [
    "a = np.random.randint(1,30,20)\n",
    "a"
   ]
  },
  {
   "cell_type": "code",
   "execution_count": 55,
   "metadata": {},
   "outputs": [
    {
     "data": {
      "text/plain": [
       "(20,)"
      ]
     },
     "execution_count": 55,
     "metadata": {},
     "output_type": "execute_result"
    }
   ],
   "source": [
    "a.shape"
   ]
  },
  {
   "cell_type": "markdown",
   "metadata": {},
   "source": [
    "##### Transpose of an array"
   ]
  },
  {
   "cell_type": "code",
   "execution_count": 38,
   "metadata": {},
   "outputs": [
    {
     "data": {
      "text/plain": [
       "array([[28, 15, 17, 14, 20],\n",
       "       [12, 17, 18, 26,  2],\n",
       "       [27, 25,  4,  2,  9],\n",
       "       [24, 22, 23, 17, 24]])"
      ]
     },
     "execution_count": 38,
     "metadata": {},
     "output_type": "execute_result"
    }
   ],
   "source": [
    "a.reshape(4,5)"
   ]
  },
  {
   "cell_type": "code",
   "execution_count": 39,
   "metadata": {},
   "outputs": [
    {
     "data": {
      "text/plain": [
       "array([[28, 15, 17, 14],\n",
       "       [20, 12, 17, 18],\n",
       "       [26,  2, 27, 25],\n",
       "       [ 4,  2,  9, 24],\n",
       "       [22, 23, 17, 24]])"
      ]
     },
     "execution_count": 39,
     "metadata": {},
     "output_type": "execute_result"
    }
   ],
   "source": [
    "a.reshape(5,4)"
   ]
  },
  {
   "cell_type": "code",
   "execution_count": 41,
   "metadata": {},
   "outputs": [
    {
     "data": {
      "text/plain": [
       "array([[28, 15, 17, 14, 20, 12, 17, 18, 26,  2, 27, 25,  4,  2,  9, 24,\n",
       "        22, 23, 17, 24]])"
      ]
     },
     "execution_count": 41,
     "metadata": {},
     "output_type": "execute_result"
    }
   ],
   "source": [
    "a.reshape(1,20)"
   ]
  },
  {
   "cell_type": "code",
   "execution_count": 44,
   "metadata": {},
   "outputs": [
    {
     "data": {
      "text/plain": [
       "array([[28, 15, 17, 14, 20, 12, 17, 18, 26,  2],\n",
       "       [27, 25,  4,  2,  9, 24, 22, 23, 17, 24]])"
      ]
     },
     "execution_count": 44,
     "metadata": {},
     "output_type": "execute_result"
    }
   ],
   "source": [
    "a.reshape(2,10)"
   ]
  },
  {
   "cell_type": "markdown",
   "metadata": {},
   "source": [
    "##### Transpose of an array"
   ]
  },
  {
   "cell_type": "code",
   "execution_count": 46,
   "metadata": {},
   "outputs": [
    {
     "data": {
      "text/plain": [
       "array([[28, 15, 17, 14, 20, 12, 17, 18, 26,  2],\n",
       "       [27, 25,  4,  2,  9, 24, 22, 23, 17, 24]])"
      ]
     },
     "execution_count": 46,
     "metadata": {},
     "output_type": "execute_result"
    }
   ],
   "source": [
    "b = a.reshape(2,10)\n",
    "b"
   ]
  },
  {
   "cell_type": "code",
   "execution_count": 49,
   "metadata": {},
   "outputs": [
    {
     "data": {
      "text/plain": [
       "array([[28, 27],\n",
       "       [15, 25],\n",
       "       [17,  4],\n",
       "       [14,  2],\n",
       "       [20,  9],\n",
       "       [12, 24],\n",
       "       [17, 22],\n",
       "       [18, 23],\n",
       "       [26, 17],\n",
       "       [ 2, 24]])"
      ]
     },
     "execution_count": 49,
     "metadata": {},
     "output_type": "execute_result"
    }
   ],
   "source": [
    "b.T"
   ]
  },
  {
   "cell_type": "code",
   "execution_count": 48,
   "metadata": {},
   "outputs": [
    {
     "data": {
      "text/plain": [
       "array([[28, 27],\n",
       "       [15, 25],\n",
       "       [17,  4],\n",
       "       [14,  2],\n",
       "       [20,  9],\n",
       "       [12, 24],\n",
       "       [17, 22],\n",
       "       [18, 23],\n",
       "       [26, 17],\n",
       "       [ 2, 24]])"
      ]
     },
     "execution_count": 48,
     "metadata": {},
     "output_type": "execute_result"
    }
   ],
   "source": [
    "b.transpose()"
   ]
  },
  {
   "cell_type": "markdown",
   "metadata": {},
   "source": [
    "##### stacking arrays"
   ]
  },
  {
   "cell_type": "code",
   "execution_count": 56,
   "metadata": {},
   "outputs": [
    {
     "name": "stdout",
     "output_type": "stream",
     "text": [
      "[[1 2 3]\n",
      " [4 5 6]]\n",
      "#####\n",
      "[[7 8 9]\n",
      " [1 2 3]]\n"
     ]
    }
   ],
   "source": [
    "a = np.array([[1,2,3],[4,5,6]])\n",
    "b = np.array([[7,8,9],[1,2,3]])\n",
    "print(a)\n",
    "print(\"#\"*5)\n",
    "print(b)"
   ]
  },
  {
   "cell_type": "code",
   "execution_count": 57,
   "metadata": {},
   "outputs": [
    {
     "data": {
      "text/plain": [
       "array([[1, 2, 3],\n",
       "       [4, 5, 6],\n",
       "       [7, 8, 9],\n",
       "       [1, 2, 3]])"
      ]
     },
     "execution_count": 57,
     "metadata": {},
     "output_type": "execute_result"
    }
   ],
   "source": [
    "np.vstack([a,b])"
   ]
  },
  {
   "cell_type": "code",
   "execution_count": 58,
   "metadata": {},
   "outputs": [
    {
     "data": {
      "text/plain": [
       "array([[1, 2, 3, 7, 8, 9],\n",
       "       [4, 5, 6, 1, 2, 3]])"
      ]
     },
     "execution_count": 58,
     "metadata": {},
     "output_type": "execute_result"
    }
   ],
   "source": [
    "np.hstack([a,b])"
   ]
  },
  {
   "cell_type": "markdown",
   "metadata": {},
   "source": [
    "##### Creating zeros,ones and identity matrix"
   ]
  },
  {
   "cell_type": "code",
   "execution_count": 60,
   "metadata": {},
   "outputs": [
    {
     "data": {
      "text/plain": [
       "array([[0., 0., 0.],\n",
       "       [0., 0., 0.]])"
      ]
     },
     "execution_count": 60,
     "metadata": {},
     "output_type": "execute_result"
    }
   ],
   "source": [
    "np.zeros([2,3])"
   ]
  },
  {
   "cell_type": "code",
   "execution_count": 65,
   "metadata": {},
   "outputs": [
    {
     "data": {
      "text/plain": [
       "array([[1, 1, 1, 1, 1],\n",
       "       [1, 1, 1, 1, 1],\n",
       "       [1, 1, 1, 1, 1],\n",
       "       [1, 1, 1, 1, 1],\n",
       "       [1, 1, 1, 1, 1]], dtype=int8)"
      ]
     },
     "execution_count": 65,
     "metadata": {},
     "output_type": "execute_result"
    }
   ],
   "source": [
    "np.ones([5,5],dtype=\"int8\")"
   ]
  },
  {
   "cell_type": "code",
   "execution_count": 67,
   "metadata": {},
   "outputs": [
    {
     "data": {
      "text/plain": [
       "array([[1, 1, 1, 1, 1],\n",
       "       [1, 1, 1, 1, 1],\n",
       "       [1, 1, 1, 1, 1],\n",
       "       [1, 1, 1, 1, 1],\n",
       "       [1, 1, 1, 1, 1]], dtype=int8)"
      ]
     },
     "execution_count": 67,
     "metadata": {},
     "output_type": "execute_result"
    }
   ],
   "source": [
    "np.ones([5,5],dtype=np.int8)"
   ]
  },
  {
   "cell_type": "code",
   "execution_count": 66,
   "metadata": {},
   "outputs": [
    {
     "data": {
      "text/plain": [
       "array([[1., 0., 0., 0., 0.],\n",
       "       [0., 1., 0., 0., 0.],\n",
       "       [0., 0., 1., 0., 0.],\n",
       "       [0., 0., 0., 1., 0.],\n",
       "       [0., 0., 0., 0., 1.]])"
      ]
     },
     "execution_count": 66,
     "metadata": {},
     "output_type": "execute_result"
    }
   ],
   "source": [
    "np.identity(5)"
   ]
  },
  {
   "cell_type": "markdown",
   "metadata": {},
   "source": [
    "##### Arithmetic operation, Matrix multiplication"
   ]
  },
  {
   "cell_type": "code",
   "execution_count": 74,
   "metadata": {},
   "outputs": [],
   "source": [
    "a = np.array([[1,2,3],[4,5,6]])\n",
    "b = np.array([[7,8,9],[1,2,3]])"
   ]
  },
  {
   "cell_type": "code",
   "execution_count": 75,
   "metadata": {},
   "outputs": [
    {
     "data": {
      "text/plain": [
       "array([[1, 2, 3],\n",
       "       [4, 5, 6]])"
      ]
     },
     "execution_count": 75,
     "metadata": {},
     "output_type": "execute_result"
    }
   ],
   "source": [
    "a"
   ]
  },
  {
   "cell_type": "code",
   "execution_count": 76,
   "metadata": {},
   "outputs": [
    {
     "data": {
      "text/plain": [
       "array([[7, 8, 9],\n",
       "       [1, 2, 3]])"
      ]
     },
     "execution_count": 76,
     "metadata": {},
     "output_type": "execute_result"
    }
   ],
   "source": [
    "b"
   ]
  },
  {
   "cell_type": "code",
   "execution_count": 77,
   "metadata": {},
   "outputs": [
    {
     "data": {
      "text/plain": [
       "array([[ 8, 10, 12],\n",
       "       [ 5,  7,  9]])"
      ]
     },
     "execution_count": 77,
     "metadata": {},
     "output_type": "execute_result"
    }
   ],
   "source": [
    "a+b"
   ]
  },
  {
   "cell_type": "code",
   "execution_count": 78,
   "metadata": {},
   "outputs": [
    {
     "data": {
      "text/plain": [
       "array([[    1,   256, 19683],\n",
       "       [    4,    25,   216]])"
      ]
     },
     "execution_count": 78,
     "metadata": {},
     "output_type": "execute_result"
    }
   ],
   "source": [
    "a**b"
   ]
  },
  {
   "cell_type": "markdown",
   "metadata": {},
   "source": [
    "# Broadcasting"
   ]
  },
  {
   "cell_type": "code",
   "execution_count": 80,
   "metadata": {},
   "outputs": [],
   "source": [
    "a = np.array([[1,2,3],[4,5,6]])\n",
    "b = np.array([[7,8,9]])"
   ]
  },
  {
   "cell_type": "code",
   "execution_count": 81,
   "metadata": {},
   "outputs": [
    {
     "data": {
      "text/plain": [
       "array([[ 8, 10, 12],\n",
       "       [11, 13, 15]])"
      ]
     },
     "execution_count": 81,
     "metadata": {},
     "output_type": "execute_result"
    }
   ],
   "source": [
    "a+b"
   ]
  },
  {
   "cell_type": "markdown",
   "metadata": {},
   "source": [
    "## Matrix multiplication\n",
    "    rule: Number of columns in 1st matrix must be equal to number of rows in 2nd matrix\n",
    "    we have to use np.dot()"
   ]
  },
  {
   "cell_type": "code",
   "execution_count": 107,
   "metadata": {},
   "outputs": [
    {
     "data": {
      "text/plain": [
       "array([[ 30,  36,  42],\n",
       "       [ 66,  81,  96],\n",
       "       [102, 126, 150]])"
      ]
     },
     "execution_count": 107,
     "metadata": {},
     "output_type": "execute_result"
    }
   ],
   "source": [
    "a = np.array([[1,2,3],[4,5,6],[7,8,9]])\n",
    "b = np.array([[1,2,3],[4,5,6],[7,8,9]])\n",
    "np.dot(a,b)"
   ]
  },
  {
   "cell_type": "markdown",
   "metadata": {},
   "source": [
    "##### Exercise"
   ]
  },
  {
   "cell_type": "markdown",
   "metadata": {},
   "source": [
    "# Create a matrix of 64 elements (8,8) and replace all the values above diagonal as zero and print the matrix"
   ]
  },
  {
   "cell_type": "code",
   "execution_count": 86,
   "metadata": {},
   "outputs": [
    {
     "data": {
      "text/plain": [
       "array([[48, 21,  6,  2,  8, 34,  8, 17],\n",
       "       [12, 19,  3,  4, 33, 21, 26, 21],\n",
       "       [ 2, 29, 22, 10,  6, 49, 45, 24],\n",
       "       [41, 25,  3,  6, 30, 37, 37, 10],\n",
       "       [36,  5,  7,  1, 35, 31, 49, 10],\n",
       "       [21, 36, 33, 22, 48, 17, 10, 46],\n",
       "       [36, 47, 26, 16, 27,  5, 28, 30],\n",
       "       [25,  7, 14, 35,  7, 39, 34,  9]])"
      ]
     },
     "execution_count": 86,
     "metadata": {},
     "output_type": "execute_result"
    }
   ],
   "source": [
    "a = np.random.randint(1,50,64).reshape(8,8)\n",
    "a"
   ]
  },
  {
   "cell_type": "code",
   "execution_count": 87,
   "metadata": {},
   "outputs": [
    {
     "name": "stdout",
     "output_type": "stream",
     "text": [
      "[[48  0  0  0  0  0  0  0]\n",
      " [12 19  0  0  0  0  0  0]\n",
      " [ 2 29 22  0  0  0  0  0]\n",
      " [41 25  3  6  0  0  0  0]\n",
      " [36  5  7  1 35  0  0  0]\n",
      " [21 36 33 22 48 17  0  0]\n",
      " [36 47 26 16 27  5 28  0]\n",
      " [25  7 14 35  7 39 34  9]]\n"
     ]
    }
   ],
   "source": [
    "cnt = 1\n",
    "for row in a:\n",
    "    row[cnt:] = 0\n",
    "    cnt += 1\n",
    "print(a)"
   ]
  },
  {
   "cell_type": "markdown",
   "metadata": {},
   "source": [
    "# repeat above for below diagonal elements as well"
   ]
  },
  {
   "cell_type": "code",
   "execution_count": 89,
   "metadata": {},
   "outputs": [
    {
     "data": {
      "text/plain": [
       "array([[18, 40, 28,  4, 17, 35,  9, 16],\n",
       "       [46, 29, 30, 40, 33, 30, 42, 12],\n",
       "       [34, 33, 16, 11, 34, 39, 33, 15],\n",
       "       [17, 26, 22, 30,  2, 38,  3, 22],\n",
       "       [ 9, 10, 46,  7, 39, 15, 37, 16],\n",
       "       [ 7, 39, 47, 42, 43, 37, 13, 29],\n",
       "       [27, 20,  2, 33, 48, 16, 32,  3],\n",
       "       [40,  6,  9, 29, 26, 11, 22, 42]])"
      ]
     },
     "execution_count": 89,
     "metadata": {},
     "output_type": "execute_result"
    }
   ],
   "source": [
    "a = np.random.randint(1,50,64).reshape(8,8)\n",
    "a"
   ]
  },
  {
   "cell_type": "code",
   "execution_count": 90,
   "metadata": {},
   "outputs": [
    {
     "name": "stdout",
     "output_type": "stream",
     "text": [
      "[[18 40 28  4 17 35  9 16]\n",
      " [ 0 29 30 40 33 30 42 12]\n",
      " [ 0  0 16 11 34 39 33 15]\n",
      " [ 0  0  0 30  2 38  3 22]\n",
      " [ 0  0  0  0 39 15 37 16]\n",
      " [ 0  0  0  0  0 37 13 29]\n",
      " [ 0  0  0  0  0  0 32  3]\n",
      " [ 0  0  0  0  0  0  0 42]]\n"
     ]
    }
   ],
   "source": [
    "cnt = 0\n",
    "for row in a:\n",
    "    row[:cnt] = 0\n",
    "    cnt += 1\n",
    "print(a)"
   ]
  },
  {
   "cell_type": "markdown",
   "metadata": {},
   "source": [
    "##### Filtering values from an array w/ and w/o where function"
   ]
  },
  {
   "cell_type": "code",
   "execution_count": null,
   "metadata": {},
   "outputs": [],
   "source": [
    "# Syntax:\n",
    "# np.where((<condition>) & (<condition>) | (<condition>)) # & is 'and' | is 'or'"
   ]
  },
  {
   "cell_type": "code",
   "execution_count": 92,
   "metadata": {},
   "outputs": [
    {
     "data": {
      "text/plain": [
       "array([[41, 38, 13, 58, 24, 18],\n",
       "       [ 1,  6, 26, 54, 25, 29],\n",
       "       [ 3, 15, 47,  6, 11, 30],\n",
       "       [12,  5, 51, 35, 33, 35],\n",
       "       [50,  1, 29, 26, 58, 27]])"
      ]
     },
     "execution_count": 92,
     "metadata": {},
     "output_type": "execute_result"
    }
   ],
   "source": [
    "a = np.random.randint(1,60,30).reshape(5,6)\n",
    "a"
   ]
  },
  {
   "cell_type": "code",
   "execution_count": 97,
   "metadata": {},
   "outputs": [
    {
     "data": {
      "text/plain": [
       "(array([0, 0, 0, 0, 1, 1, 1, 1, 2, 2, 3, 3, 3, 3, 4, 4, 4, 4, 4]),\n",
       " array([0, 1, 3, 4, 2, 3, 4, 5, 2, 5, 2, 3, 4, 5, 0, 2, 3, 4, 5]))"
      ]
     },
     "execution_count": 97,
     "metadata": {},
     "output_type": "execute_result"
    }
   ],
   "source": [
    "np.where(a>20)"
   ]
  },
  {
   "cell_type": "code",
   "execution_count": 98,
   "metadata": {},
   "outputs": [
    {
     "data": {
      "text/plain": [
       "array([41, 38, 58, 24, 26, 54, 25, 29, 47, 30, 51, 35, 33, 35, 50, 29, 26,\n",
       "       58, 27])"
      ]
     },
     "execution_count": 98,
     "metadata": {},
     "output_type": "execute_result"
    }
   ],
   "source": [
    "a[np.where(a>20)]"
   ]
  },
  {
   "cell_type": "code",
   "execution_count": 95,
   "metadata": {},
   "outputs": [
    {
     "data": {
      "text/plain": [
       "19"
      ]
     },
     "execution_count": 95,
     "metadata": {},
     "output_type": "execute_result"
    }
   ],
   "source": [
    "a[np.where(a>20)].size"
   ]
  },
  {
   "cell_type": "markdown",
   "metadata": {},
   "source": [
    "# Short way of filtering"
   ]
  },
  {
   "cell_type": "code",
   "execution_count": 99,
   "metadata": {},
   "outputs": [
    {
     "data": {
      "text/plain": [
       "array([41, 38, 58, 24, 26, 54, 25, 29, 47, 30, 51, 35, 33, 35, 50, 29, 26,\n",
       "       58, 27])"
      ]
     },
     "execution_count": 99,
     "metadata": {},
     "output_type": "execute_result"
    }
   ],
   "source": [
    "a[a>20]"
   ]
  },
  {
   "cell_type": "markdown",
   "metadata": {},
   "source": [
    "###### using multiple condition"
   ]
  },
  {
   "cell_type": "code",
   "execution_count": 102,
   "metadata": {},
   "outputs": [
    {
     "data": {
      "text/plain": [
       "array([24, 26, 25, 29, 30, 33, 29, 26, 27])"
      ]
     },
     "execution_count": 102,
     "metadata": {},
     "output_type": "execute_result"
    }
   ],
   "source": [
    "a[(a>20) & (a<35)]"
   ]
  },
  {
   "cell_type": "code",
   "execution_count": 101,
   "metadata": {},
   "outputs": [
    {
     "data": {
      "text/plain": [
       "9"
      ]
     },
     "execution_count": 101,
     "metadata": {},
     "output_type": "execute_result"
    }
   ],
   "source": [
    "a[(a>20) & (a<35)].size"
   ]
  },
  {
   "cell_type": "markdown",
   "metadata": {},
   "source": [
    "##### Exercise"
   ]
  },
  {
   "cell_type": "markdown",
   "metadata": {},
   "source": [
    "# Create an array of 500 random numbers between 0 to 100 age group, provide the number of persons available for 0-30 age, 31 to 60 age and 61 and above "
   ]
  },
  {
   "cell_type": "code",
   "execution_count": 105,
   "metadata": {},
   "outputs": [
    {
     "name": "stdout",
     "output_type": "stream",
     "text": [
      "154\n",
      "147\n",
      "199\n"
     ]
    }
   ],
   "source": [
    "a = np.random.randint(0,100,500)\n",
    "\n",
    "age1 = a[a<=30]\n",
    "age2 = a[(a>30) & (a<=60)]\n",
    "age3 = a[a>60]\n",
    "print(age1.size)\n",
    "print(age2.size)\n",
    "print(age3.size)"
   ]
  },
  {
   "cell_type": "markdown",
   "metadata": {},
   "source": [
    "##### Applying statistic function over array (to whole elements or row wise or column wise)"
   ]
  },
  {
   "cell_type": "code",
   "execution_count": 108,
   "metadata": {},
   "outputs": [
    {
     "data": {
      "text/plain": [
       "array([[2, 2, 3],\n",
       "       [1, 4, 4],\n",
       "       [2, 1, 3],\n",
       "       [3, 2, 4]])"
      ]
     },
     "execution_count": 108,
     "metadata": {},
     "output_type": "execute_result"
    }
   ],
   "source": [
    "a = np.random.randint(1,5,12).reshape(4,3)\n",
    "a"
   ]
  },
  {
   "cell_type": "code",
   "execution_count": 109,
   "metadata": {},
   "outputs": [
    {
     "data": {
      "text/plain": [
       "4"
      ]
     },
     "execution_count": 109,
     "metadata": {},
     "output_type": "execute_result"
    }
   ],
   "source": [
    "a.max()"
   ]
  },
  {
   "cell_type": "code",
   "execution_count": 110,
   "metadata": {},
   "outputs": [
    {
     "data": {
      "text/plain": [
       "1"
      ]
     },
     "execution_count": 110,
     "metadata": {},
     "output_type": "execute_result"
    }
   ],
   "source": [
    "a.min()"
   ]
  },
  {
   "cell_type": "code",
   "execution_count": 111,
   "metadata": {},
   "outputs": [
    {
     "data": {
      "text/plain": [
       "array([3, 4, 4])"
      ]
     },
     "execution_count": 111,
     "metadata": {},
     "output_type": "execute_result"
    }
   ],
   "source": [
    "a.max(axis=0)"
   ]
  },
  {
   "cell_type": "code",
   "execution_count": 112,
   "metadata": {},
   "outputs": [
    {
     "data": {
      "text/plain": [
       "array([3, 4, 3, 4])"
      ]
     },
     "execution_count": 112,
     "metadata": {},
     "output_type": "execute_result"
    }
   ],
   "source": [
    "a.max(axis=1)"
   ]
  },
  {
   "cell_type": "code",
   "execution_count": 114,
   "metadata": {},
   "outputs": [
    {
     "data": {
      "text/plain": [
       "array([0.70710678, 1.08972474, 0.5       ])"
      ]
     },
     "execution_count": 114,
     "metadata": {},
     "output_type": "execute_result"
    }
   ],
   "source": [
    "a.std(axis=0)"
   ]
  },
  {
   "cell_type": "code",
   "execution_count": 115,
   "metadata": {},
   "outputs": [
    {
     "data": {
      "text/plain": [
       "array([2.  , 2.25, 3.5 ])"
      ]
     },
     "execution_count": 115,
     "metadata": {},
     "output_type": "execute_result"
    }
   ],
   "source": [
    "a.mean(axis=0)"
   ]
  },
  {
   "cell_type": "code",
   "execution_count": null,
   "metadata": {},
   "outputs": [],
   "source": []
  },
  {
   "cell_type": "markdown",
   "metadata": {},
   "source": [
    "# use of linspace"
   ]
  },
  {
   "cell_type": "code",
   "execution_count": 118,
   "metadata": {},
   "outputs": [],
   "source": [
    "# np.linspace(<start>,<end>,<how_many, default is 50 values>)"
   ]
  },
  {
   "cell_type": "code",
   "execution_count": 119,
   "metadata": {},
   "outputs": [
    {
     "data": {
      "text/plain": [
       "array([1.        , 1.02020202, 1.04040404, 1.06060606, 1.08080808,\n",
       "       1.1010101 , 1.12121212, 1.14141414, 1.16161616, 1.18181818,\n",
       "       1.2020202 , 1.22222222, 1.24242424, 1.26262626, 1.28282828,\n",
       "       1.3030303 , 1.32323232, 1.34343434, 1.36363636, 1.38383838,\n",
       "       1.4040404 , 1.42424242, 1.44444444, 1.46464646, 1.48484848,\n",
       "       1.50505051, 1.52525253, 1.54545455, 1.56565657, 1.58585859,\n",
       "       1.60606061, 1.62626263, 1.64646465, 1.66666667, 1.68686869,\n",
       "       1.70707071, 1.72727273, 1.74747475, 1.76767677, 1.78787879,\n",
       "       1.80808081, 1.82828283, 1.84848485, 1.86868687, 1.88888889,\n",
       "       1.90909091, 1.92929293, 1.94949495, 1.96969697, 1.98989899,\n",
       "       2.01010101, 2.03030303, 2.05050505, 2.07070707, 2.09090909,\n",
       "       2.11111111, 2.13131313, 2.15151515, 2.17171717, 2.19191919,\n",
       "       2.21212121, 2.23232323, 2.25252525, 2.27272727, 2.29292929,\n",
       "       2.31313131, 2.33333333, 2.35353535, 2.37373737, 2.39393939,\n",
       "       2.41414141, 2.43434343, 2.45454545, 2.47474747, 2.49494949,\n",
       "       2.51515152, 2.53535354, 2.55555556, 2.57575758, 2.5959596 ,\n",
       "       2.61616162, 2.63636364, 2.65656566, 2.67676768, 2.6969697 ,\n",
       "       2.71717172, 2.73737374, 2.75757576, 2.77777778, 2.7979798 ,\n",
       "       2.81818182, 2.83838384, 2.85858586, 2.87878788, 2.8989899 ,\n",
       "       2.91919192, 2.93939394, 2.95959596, 2.97979798, 3.        ])"
      ]
     },
     "execution_count": 119,
     "metadata": {},
     "output_type": "execute_result"
    }
   ],
   "source": [
    "np.linspace(1,3,100)"
   ]
  },
  {
   "cell_type": "code",
   "execution_count": 121,
   "metadata": {},
   "outputs": [
    {
     "data": {
      "text/plain": [
       "50"
      ]
     },
     "execution_count": 121,
     "metadata": {},
     "output_type": "execute_result"
    }
   ],
   "source": [
    "np.linspace(1,3)"
   ]
  },
  {
   "cell_type": "code",
   "execution_count": 121,
   "metadata": {},
   "outputs": [
    {
     "data": {
      "text/plain": [
       "50"
      ]
     },
     "execution_count": 121,
     "metadata": {},
     "output_type": "execute_result"
    }
   ],
   "source": [
    "np.linspace(1,3).size"
   ]
  },
  {
   "cell_type": "code",
   "execution_count": 122,
   "metadata": {},
   "outputs": [
    {
     "data": {
      "text/plain": [
       "array([ 1.        ,  1.8989899 ,  2.7979798 ,  3.6969697 ,  4.5959596 ,\n",
       "        5.49494949,  6.39393939,  7.29292929,  8.19191919,  9.09090909,\n",
       "        9.98989899, 10.88888889, 11.78787879, 12.68686869, 13.58585859,\n",
       "       14.48484848, 15.38383838, 16.28282828, 17.18181818, 18.08080808,\n",
       "       18.97979798, 19.87878788, 20.77777778, 21.67676768, 22.57575758,\n",
       "       23.47474747, 24.37373737, 25.27272727, 26.17171717, 27.07070707,\n",
       "       27.96969697, 28.86868687, 29.76767677, 30.66666667, 31.56565657,\n",
       "       32.46464646, 33.36363636, 34.26262626, 35.16161616, 36.06060606,\n",
       "       36.95959596, 37.85858586, 38.75757576, 39.65656566, 40.55555556,\n",
       "       41.45454545, 42.35353535, 43.25252525, 44.15151515, 45.05050505,\n",
       "       45.94949495, 46.84848485, 47.74747475, 48.64646465, 49.54545455,\n",
       "       50.44444444, 51.34343434, 52.24242424, 53.14141414, 54.04040404,\n",
       "       54.93939394, 55.83838384, 56.73737374, 57.63636364, 58.53535354,\n",
       "       59.43434343, 60.33333333, 61.23232323, 62.13131313, 63.03030303,\n",
       "       63.92929293, 64.82828283, 65.72727273, 66.62626263, 67.52525253,\n",
       "       68.42424242, 69.32323232, 70.22222222, 71.12121212, 72.02020202,\n",
       "       72.91919192, 73.81818182, 74.71717172, 75.61616162, 76.51515152,\n",
       "       77.41414141, 78.31313131, 79.21212121, 80.11111111, 81.01010101,\n",
       "       81.90909091, 82.80808081, 83.70707071, 84.60606061, 85.50505051,\n",
       "       86.4040404 , 87.3030303 , 88.2020202 , 89.1010101 , 90.        ])"
      ]
     },
     "execution_count": 122,
     "metadata": {},
     "output_type": "execute_result"
    }
   ],
   "source": [
    "a = np.linspace(1,90,100)\n",
    "a"
   ]
  },
  {
   "cell_type": "code",
   "execution_count": 123,
   "metadata": {},
   "outputs": [
    {
     "data": {
      "text/plain": [
       "array([ 0.84147098,  0.94662616,  0.33689094, -0.52726371, -0.99322975,\n",
       "       -0.70911045,  0.1105278 ,  0.84669565,  0.94344046,  0.32770071,\n",
       "       -0.53551803, -0.99431451, -0.70220644,  0.12020668,  0.85183993,\n",
       "        0.94016518,  0.31847936, -0.54372151, -0.99530486, -0.69523575,\n",
       "        0.12987415,  0.85690333,  0.93680064,  0.30922777, -0.55187336,\n",
       "       -0.99620071, -0.68819906,  0.1395293 ,  0.86188538,  0.93334716,\n",
       "        0.29994683, -0.55997281, -0.99700198, -0.68109703,  0.14917119,\n",
       "        0.86678559,  0.92980506,  0.2906374 , -0.5680191 , -0.99770859,\n",
       "       -0.67393033,  0.15879892,  0.8716035 ,  0.92617468,  0.28130038,\n",
       "       -0.57601146, -0.99832047, -0.66669964,  0.16841157,  0.87633867,\n",
       "        0.92245636,  0.27193665, -0.58394913, -0.99883757, -0.65940566,\n",
       "        0.17800823,  0.88099062,  0.91865046,  0.26254711, -0.59183136,\n",
       "       -0.99925983, -0.65204906,  0.187588  ,  0.88555894,  0.91475734,\n",
       "        0.25313263, -0.59965739, -0.99958722, -0.64463056,  0.19714995,\n",
       "        0.89004317,  0.91077737,  0.24369413, -0.60742649, -0.9998197 ,\n",
       "       -0.63715086,  0.20669318,  0.8944429 ,  0.90671093,  0.23423248,\n",
       "       -0.61513792, -0.99995726, -0.62961066,  0.21621679,  0.89875771,\n",
       "        0.9025584 ,  0.2247486 , -0.62279094, -0.99999988, -0.62201068,\n",
       "        0.22571987,  0.90298718,  0.89832018,  0.21524338, -0.63038484,\n",
       "       -0.99994755, -0.61435165,  0.23520152,  0.90713092,  0.89399666])"
      ]
     },
     "execution_count": 123,
     "metadata": {},
     "output_type": "execute_result"
    }
   ],
   "source": [
    "np.sin(a)"
   ]
  },
  {
   "cell_type": "code",
   "execution_count": 124,
   "metadata": {},
   "outputs": [],
   "source": [
    "import matplotlib.pyplot as plt"
   ]
  },
  {
   "cell_type": "code",
   "execution_count": 125,
   "metadata": {},
   "outputs": [
    {
     "data": {
      "text/plain": [
       "[<matplotlib.lines.Line2D at 0x1213e4ef0>]"
      ]
     },
     "execution_count": 125,
     "metadata": {},
     "output_type": "execute_result"
    },
    {
     "data": {
      "image/png": "[encoded data removed]",
      "text/plain": [
       "<Figure size 432x288 with 1 Axes>"
      ]
     },
     "metadata": {
      "needs_background": "light"
     },
     "output_type": "display_data"
    }
   ],
   "source": [
    "plt.plot(np.sin(a))"
   ]
  }
 ],
 "metadata": {
  "kernelspec": {
   "display_name": "Python 3",
   "language": "python",
   "name": "python3"
  },
  "language_info": {
   "codemirror_mode": {
    "name": "ipython",
    "version": 3
   },
   "file_extension": ".py",
   "mimetype": "text/x-python",
   "name": "python",
   "nbconvert_exporter": "python",
   "pygments_lexer": "ipython3",
   "version": "3.7.3"
  },
  "latex_envs": {
   "LaTeX_envs_menu_present": true,
   "autoclose": false,
   "autocomplete": true,
   "bibliofile": "biblio.bib",
   "cite_by": "apalike",
   "current_citInitial": 1,
   "eqLabelWithNumbers": true,
   "eqNumInitial": 1,
   "hotkeys": {
    "equation": "Ctrl-E",
    "itemize": "Ctrl-I"
   },
   "labels_anchors": false,
   "latex_user_defs": false,
   "report_style_numbering": false,
   "user_envs_cfg": false
  },
  "varInspector": {
   "cols": {
    "lenName": 16,
    "lenType": 16,
    "lenVar": 40
   },
   "kernels_config": {
    "python": {
     "delete_cmd_postfix": "",
     "delete_cmd_prefix": "del ",
     "library": "var_list.py",
     "varRefreshCmd": "print(var_dic_list())"
    },
    "r": {
     "delete_cmd_postfix": ") ",
     "delete_cmd_prefix": "rm(",
     "library": "var_list.r",
     "varRefreshCmd": "cat(var_dic_list()) "
    }
   },
   "types_to_exclude": [
    "module",
    "function",
    "builtin_function_or_method",
    "instance",
    "_Feature"
   ],
   "window_display": false
  }
 },
 "nbformat": 4,
 "nbformat_minor": 2
}
